{
 "cells": [
  {
   "cell_type": "code",
   "execution_count": 1,
   "id": "6c18efdb",
   "metadata": {},
   "outputs": [
    {
     "data": {
      "text/html": [
       "\n",
       "        <iframe\n",
       "            width=\"900\"\n",
       "            height=\"600\"\n",
       "            src=\"../data/SRR5088813/SRR5088813_1_fastqc.html\"\n",
       "            frameborder=\"0\"\n",
       "            allowfullscreen\n",
       "            \n",
       "        ></iframe>\n",
       "        "
      ],
      "text/plain": [
       "<IPython.lib.display.IFrame at 0x10a8607a0>"
      ]
     },
     "metadata": {},
     "output_type": "display_data"
    }
   ],
   "source": [
    "from IPython.display import IFrame, HTML, display\n",
    "import os\n",
    "\n",
    "# Check if the file exists first\n",
    "file_path = \"../data/SRR5088813/SRR5088813_1_fastqc.html\"\n",
    "if os.path.exists(file_path):\n",
    "    # Try with explicit display\n",
    "    display(IFrame(src=file_path, width=900, height=600))\n",
    "else:\n",
    "    print(f\"File not found: {file_path}\")\n",
    "    print(\"Please check if the path is correct and the file exists.\")"
   ]
  },
  {
   "cell_type": "code",
   "execution_count": null,
   "id": "4425a2d5",
   "metadata": {},
   "outputs": [],
   "source": []
  }
 ],
 "metadata": {
  "kernelspec": {
   "display_name": "base",
   "language": "python",
   "name": "python3"
  },
  "language_info": {
   "codemirror_mode": {
    "name": "ipython",
    "version": 3
   },
   "file_extension": ".py",
   "mimetype": "text/x-python",
   "name": "python",
   "nbconvert_exporter": "python",
   "pygments_lexer": "ipython3",
   "version": "3.12.2"
  }
 },
 "nbformat": 4,
 "nbformat_minor": 5
}
